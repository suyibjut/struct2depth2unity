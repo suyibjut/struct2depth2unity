{
  "nbformat": 4,
  "nbformat_minor": 0,
  "metadata": {
    "colab": {
      "name": "struct2depth initial KITTI test",
      "version": "0.3.2",
      "provenance": [],
      "collapsed_sections": [],
      "include_colab_link": true
    },
    "kernelspec": {
      "name": "python3",
      "display_name": "Python 3"
    }
  },
  "cells": [
    {
      "cell_type": "markdown",
      "metadata": {
        "id": "view-in-github",
        "colab_type": "text"
      },
      "source": [
        "<a href=\"https://colab.research.google.com/github/xiajenny/struct2depth2unity/blob/master/struct2depth_initial_KITTI_test.ipynb\" target=\"_parent\"><img src=\"https://colab.research.google.com/assets/colab-badge.svg\" alt=\"Open In Colab\"/></a>"
      ]
    },
    {
      "metadata": {
        "id": "9Vknq-OlzLm_",
        "colab_type": "code",
        "outputId": "5aec1e73-7116-482c-8b47-1b6345a60a68",
        "colab": {
          "base_uri": "https://localhost:8080/",
          "height": 34
        }
      },
      "cell_type": "code",
      "source": [
        "import tensorflow as tf\n",
        "\n",
        "from google.colab import drive\n",
        "\n",
        "drive.mount('/content/gdrive', force_remount = True)\n",
        "\n"
      ],
      "execution_count": 2,
      "outputs": [
        {
          "output_type": "stream",
          "text": [
            "Mounted at /content/gdrive\n"
          ],
          "name": "stdout"
        }
      ]
    },
    {
      "metadata": {
        "id": "YnKX_8iy6xPV",
        "colab_type": "code",
        "outputId": "50f43948-f44f-47cf-c495-72207ca89dac",
        "colab": {
          "base_uri": "https://localhost:8080/",
          "height": 54
        }
      },
      "cell_type": "code",
      "source": [
        "with tf.Session() as sess:\n",
        "    saver = tf.train.import_meta_graph('/content/gdrive/My Drive/struct2depth2unity/struct2depth_model_kitti/model.ckpt-199160.meta')\n",
        "    saver.restore(sess, \"/content/gdrive/My Drive/struct2depth2unity/struct2depth_model_kitti/model.ckpt-199160\")"
      ],
      "execution_count": 14,
      "outputs": [
        {
          "output_type": "stream",
          "text": [
            "INFO:tensorflow:Restoring parameters from /content/gdrive/My Drive/struct2depth2unity/struct2depth_model_kitti/model.ckpt-199160\n"
          ],
          "name": "stdout"
        }
      ]
    },
    {
      "metadata": {
        "id": "sild04BkBU51",
        "colab_type": "code",
        "colab": {}
      },
      "cell_type": "code",
      "source": [
        "graph = tf.get_default_graph()\n",
        "#[n.name for n in graph.as_graph_def().node]"
      ],
      "execution_count": 0,
      "outputs": []
    },
    {
      "metadata": {
        "id": "Ecn0o2FVT29s",
        "colab_type": "code",
        "outputId": "b82f18ba-3082-4f57-d6b6-c60edd1c74cc",
        "colab": {
          "base_uri": "https://localhost:8080/",
          "height": 122
        }
      },
      "cell_type": "code",
      "source": [
        "!git clone https://github.com/tensorflow/tensorflow.git\n"
      ],
      "execution_count": 4,
      "outputs": [
        {
          "output_type": "stream",
          "text": [
            "Cloning into 'tensorflow'...\n",
            "remote: Enumerating objects: 528508, done.\u001b[K\n",
            "remote: Total 528508 (delta 0), reused 0 (delta 0), pack-reused 528508\u001b[K\n",
            "Receiving objects: 100% (528508/528508), 307.10 MiB | 27.62 MiB/s, done.\n",
            "Resolving deltas: 100% (424658/424658), done.\n",
            "Checking out files: 100% (16216/16216), done.\n"
          ],
          "name": "stdout"
        }
      ]
    },
    {
      "metadata": {
        "id": "zgRKpc_7XWlt",
        "colab_type": "code",
        "outputId": "7546ecf3-002f-4c1f-8cb6-573880934810",
        "colab": {
          "base_uri": "https://localhost:8080/",
          "height": 158
        }
      },
      "cell_type": "code",
      "source": [
        "!git clone https://github.com/tensorflow/models.git"
      ],
      "execution_count": 5,
      "outputs": [
        {
          "output_type": "stream",
          "text": [
            "Cloning into 'models'...\n",
            "remote: Enumerating objects: 7, done.\u001b[K\n",
            "remote: Counting objects:  14% (1/7)   \u001b[K\rremote: Counting objects:  28% (2/7)   \u001b[K\rremote: Counting objects:  42% (3/7)   \u001b[K\rremote: Counting objects:  57% (4/7)   \u001b[K\rremote: Counting objects:  71% (5/7)   \u001b[K\rremote: Counting objects:  85% (6/7)   \u001b[K\rremote: Counting objects: 100% (7/7)   \u001b[K\rremote: Counting objects: 100% (7/7), done.\u001b[K\n",
            "remote: Compressing objects: 100% (4/4), done.\u001b[K\n",
            "remote: Total 24066 (delta 3), reused 3 (delta 3), pack-reused 24059\u001b[K\n",
            "Receiving objects: 100% (24066/24066), 505.73 MiB | 34.60 MiB/s, done.\n",
            "Resolving deltas: 100% (14239/14239), done.\n",
            "Checking out files: 100% (2768/2768), done.\n"
          ],
          "name": "stdout"
        }
      ]
    },
    {
      "metadata": {
        "id": "mJwh9z4dWuOQ",
        "colab_type": "code",
        "outputId": "4a7ab890-44f7-4a3e-b8df-63bdcb5070e2",
        "colab": {
          "base_uri": "https://localhost:8080/",
          "height": 70
        }
      },
      "cell_type": "code",
      "source": [
        "!ls models/research/struct2depth"
      ],
      "execution_count": 8,
      "outputs": [
        {
          "output_type": "stream",
          "text": [
            "alignment.py\t  gen_data_kitti.py  nets.py\t  __pycache__  train.py\n",
            "BUILD\t\t  inference.py\t     optimize.py  reader.py    util.py\n",
            "gen_data_city.py  model.py\t     project.py   README.md\n"
          ],
          "name": "stdout"
        }
      ]
    },
    {
      "metadata": {
        "id": "J4d4x_YLrrhy",
        "colab_type": "code",
        "colab": {}
      },
      "cell_type": "code",
      "source": [
        "!cat \"/content/gdrive/My Drive/struct2depth2unity/gen_data_kitti.py\" > models/research/struct2depth/gen_data_kitti.py\n"
      ],
      "execution_count": 0,
      "outputs": []
    },
    {
      "metadata": {
        "id": "MQQXG2iDvWwe",
        "colab_type": "code",
        "colab": {}
      },
      "cell_type": "code",
      "source": [
        "!cat models/research/struct2depth/gen_data_kitti.py"
      ],
      "execution_count": 0,
      "outputs": []
    },
    {
      "metadata": {
        "id": "CKVtY2GkPsn_",
        "colab_type": "code",
        "colab": {
          "base_uri": "https://localhost:8080/",
          "height": 122
        },
        "outputId": "2db44ca4-89f8-45ce-c016-63d8466436b1"
      },
      "cell_type": "code",
      "source": [
        "!python models/research/struct2depth/gen_data_kitti.py"
      ],
      "execution_count": 23,
      "outputs": [
        {
          "output_type": "stream",
          "text": [
            "Processing sequence data\n",
            "Processing sequence data\n",
            "Processing sequence data\n",
            "Processing sequence data\n",
            "Processing sequence data\n",
            "Processing sequence data\n"
          ],
          "name": "stdout"
        }
      ]
    },
    {
      "metadata": {
        "id": "tL3sipm2mpzK",
        "colab_type": "code",
        "colab": {
          "base_uri": "https://localhost:8080/",
          "height": 70
        },
        "outputId": "74589397-8315-457d-dfc7-e4d3cd7f279c"
      },
      "cell_type": "code",
      "source": [
        "!ls models/research/struct2depth"
      ],
      "execution_count": 10,
      "outputs": [
        {
          "output_type": "stream",
          "text": [
            "alignment.py\t  gen_data_kitti.py  nets.py\t  __pycache__  train.py\n",
            "BUILD\t\t  inference.py\t     optimize.py  reader.py    util.py\n",
            "gen_data_city.py  model.py\t     project.py   README.md\n"
          ],
          "name": "stdout"
        }
      ]
    },
    {
      "metadata": {
        "id": "DsdqzUKUDpHv",
        "colab_type": "code",
        "colab": {
          "base_uri": "https://localhost:8080/",
          "height": 195
        },
        "outputId": "0f03ec20-686d-4eb2-ed9f-102c5a8380d8"
      },
      "cell_type": "code",
      "source": [
        "!input_dir=\"/content/gdrive/My Drive/struct2depth2unity/2011_09_26_drive_0001_sync\"\n",
        "!output_dir=\"/content/gdrive/My Drive/struct2depth2unity/inference\"\n",
        "!model_checkpoint=\"/content/gdrive/My Drive/struct2depth2unity/struct2depth_model_kitti\"\n",
        "\n",
        "!python models/research/struct2depth/inference.py \\\n",
        "    --logtostderr \\\n",
        "    --file_extension png \\\n",
        "    --depth \\\n",
        "    --egomotion true \\\n",
        "    --input_dir $input_dir \\\n",
        "    --output_dir \"/content/gdrive/My Drive/struct2depth2unity/inference\" \\\n",
        "    --model_ckpt \"/content/gdrive/My Drive/struct2depth2unity/struct2depth_model_kitti\"\n",
        "    \n",
        "\n"
      ],
      "execution_count": 55,
      "outputs": [
        {
          "output_type": "stream",
          "text": [
            "\n",
            "WARNING: The TensorFlow contrib module will not be included in TensorFlow 2.0.\n",
            "For more information, please see:\n",
            "  * https://github.com/tensorflow/community/blob/master/rfcs/20180907-contrib-sunset.md\n",
            "  * https://github.com/tensorflow/addons\n",
            "If you depend on functionality not listed there, please file an issue.\n",
            "\n",
            "FATAL Flags parsing error: flag --output_dir=None: Flag --output_dir must have a value other than None.\n",
            "Pass --helpshort or --helpfull to see help on flags.\n"
          ],
          "name": "stdout"
        }
      ]
    }
  ]
}