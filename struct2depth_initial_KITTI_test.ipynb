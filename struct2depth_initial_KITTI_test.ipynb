{
  "nbformat": 4,
  "nbformat_minor": 0,
  "metadata": {
    "colab": {
      "name": "struct2depth initial KITTI test",
      "version": "0.3.2",
      "provenance": [],
      "include_colab_link": true
    },
    "kernelspec": {
      "name": "python3",
      "display_name": "Python 3"
    }
  },
  "cells": [
    {
      "cell_type": "markdown",
      "metadata": {
        "id": "view-in-github",
        "colab_type": "text"
      },
      "source": [
        "<a href=\"https://colab.research.google.com/github/xiajenny/struct2depth2unity/blob/master/struct2depth_initial_KITTI_test.ipynb\" target=\"_parent\"><img src=\"https://colab.research.google.com/assets/colab-badge.svg\" alt=\"Open In Colab\"/></a>"
      ]
    },
    {
      "metadata": {
        "id": "ebrS4r3f9gdN",
        "colab_type": "code",
        "colab": {}
      },
      "cell_type": "code",
      "source": [
        "import tensorflow as tf\n",
        "\n",
        "output_dir=\"C:\\Users\\Jenny\\OneDrive - University of Waterloo\\URA 2019\\output1\"\n",
        "model_checkpoint=\"C:\\Users\\Jenny\\OneDrive - University of Waterloo\\URA 2019\\checkpoint\"\n",
        "\n",
        "python inference.py \\\n",
        "    --logtostderr \\\n",
        "    --file_extension png \\\n",
        "    --depth \\\n",
        "    --egomotion true \\\n",
        "    --input_list_file ~/kitti-raw-uncompressed/test_files_eigen.txt\n",
        "    --output_dir $output_dir \\\n",
        "    --model_ckpt $model_checkpoint"
      ],
      "execution_count": 0,
      "outputs": []
    }
  ]
}